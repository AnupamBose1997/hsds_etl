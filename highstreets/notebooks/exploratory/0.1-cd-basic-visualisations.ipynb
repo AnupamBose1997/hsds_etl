{
 "cells": [
  {
   "cell_type": "code",
   "execution_count": null,
   "metadata": {},
   "outputs": [],
   "source": [
    "import pandas as pd\n",
    "\n",
    "%load_ext autoreload\n",
    "%autoreload 2"
   ]
  },
  {
   "cell_type": "markdown",
   "metadata": {},
   "source": [
    "### Load main datasets"
   ]
  },
  {
   "cell_type": "code",
   "execution_count": null,
   "metadata": {},
   "outputs": [],
   "source": [
    "hsp = pd.read_excel(\".../data/raw/Highstreet_profiles_updated.xlsx\")\n",
    "hsd_yoy = pd.read_csv(\".../data/raw/yoy_highstreets.csv\", parse_dates=[\"week_start\"])"
   ]
  }
 ],
 "metadata": {
  "interpreter": {
   "hash": "1261e040ca787f5ae3dfea195be8b65b79c591c00963204095cd345a6e2efeeb"
  },
  "kernelspec": {
   "display_name": "Python 3.10.4 ('highstreets')",
   "language": "python",
   "name": "python3"
  },
  "language_info": {
   "codemirror_mode": {
    "name": "ipython",
    "version": 3
   },
   "file_extension": ".py",
   "mimetype": "text/x-python",
   "name": "python",
   "nbconvert_exporter": "python",
   "pygments_lexer": "ipython3",
   "version": "3.10.4"
  }
 },
 "nbformat": 4,
 "nbformat_minor": 2
}
